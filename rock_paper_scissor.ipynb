{
 "cells": [
  {
   "cell_type": "markdown",
   "metadata": {},
   "source": [
    "# Rock Paper Scissors Game "
   ]
  },
  {
   "cell_type": "code",
   "execution_count": null,
   "metadata": {},
   "outputs": [],
   "source": [
    "import random as rd \n",
    "i = 0\n",
    "while(i<5):\n",
    "    i = i+1\n",
    "    user_input = input(\"What you choose ('Rock','paper','scissor') :    \")\n",
    "    action = ['rock','paper','scissor']\n",
    "    opponent = rd.choice(action)\n",
    "    print(\"Opponent Choose : \", opponent)\n",
    "    if user_input == opponent:\n",
    "        print(\"Same Action Tie\")\n",
    "    elif user_input=='rock':\n",
    "        if opponent == 'paper':\n",
    "            print(\"opponent win\")\n",
    "        else :\n",
    "            print(\"Hore!!! you win\")\n",
    "    elif user_input=='paper':\n",
    "        if opponent == 'rock':\n",
    "            print(\"Horeee!!! You win\")\n",
    "        else :\n",
    "            print(\"Opponent win\")\n",
    "    elif user_input=='scissor':\n",
    "        if opponent == 'paper':\n",
    "            print(\"Horeee!!! You win\")\n",
    "            \n",
    "        else :\n",
    "            print(\"Opponent win\")\n",
    "\n",
    " print(\"Match complete Bye!!!!!!!!\")       \n",
    "        \n",
    "    \n",
    "    "
   ]
  },
  {
   "cell_type": "markdown",
   "metadata": {},
   "source": [
    "# Rock paper Scissor game in using loop"
   ]
  },
  {
   "cell_type": "code",
   "execution_count": null,
   "metadata": {
    "scrolled": false
   },
   "outputs": [],
   "source": [
    "import random as rd\n",
    "\n",
    "# taking input \n",
    "user_input = input(\"What you choose ('Rock','paper','scissor') :    \")\n",
    "\n",
    "# Creating list\n",
    "action = ['rock','paper','scissor']\n",
    "opponent = rd.choice(action)\n",
    "print(\"Opponent Choose : \", opponent)\n",
    "if user_input == opponent :\n",
    "    print(\"Same Action Tie\")\n",
    "elif user_input=='rock':\n",
    "    if opponent == 'paper':\n",
    "        print(\"Horeee!!! You win\")\n",
    "    else :\n",
    "        print(\"Opponent win\")\n",
    "elif user_input=='paper':\n",
    "    if opponent == 'rock':\n",
    "        print(\"Horeee!!! You win\")\n",
    "    else :\n",
    "        print(\"Opponent win\")\n",
    "elif user_input=='scissor':\n",
    "    if opponent == 'paper':\n",
    "        print(\"Horeee!!! You win\")\n",
    "    else :\n",
    "        print(\"Opponent win\")\n"
   ]
  },
  {
   "cell_type": "raw",
   "metadata": {},
   "source": []
  },
  {
   "cell_type": "code",
   "execution_count": null,
   "metadata": {},
   "outputs": [],
   "source": []
  }
 ],
 "metadata": {
  "kernelspec": {
   "display_name": "Python 3",
   "language": "python",
   "name": "python3"
  },
  "language_info": {
   "codemirror_mode": {
    "name": "ipython",
    "version": 3
   },
   "file_extension": ".py",
   "mimetype": "text/x-python",
   "name": "python",
   "nbconvert_exporter": "python",
   "pygments_lexer": "ipython3",
   "version": "3.8.5"
  }
 },
 "nbformat": 4,
 "nbformat_minor": 4
}
